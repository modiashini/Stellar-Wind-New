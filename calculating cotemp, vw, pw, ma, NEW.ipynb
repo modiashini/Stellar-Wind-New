{
 "cells": [
  {
   "cell_type": "code",
   "execution_count": 1,
   "metadata": {},
   "outputs": [],
   "source": [
    "import numpy as np\n",
    "import matplotlib.pyplot as plt\n",
    "%matplotlib inline\n",
    "plt.rcParams.update({'font.size': 20})\n",
    "plt.rcParams['figure.figsize'] = [20, 10]"
   ]
  },
  {
   "cell_type": "code",
   "execution_count": 2,
   "metadata": {},
   "outputs": [
    {
     "name": "stdout",
     "output_type": "stream",
     "text": [
      "coronal temperature of GJ1132b, Kepler-138d, K2-3d, GJ3053b, K2-3c, 55Cnce, K2-18b, GJ97658b, GJ1214b\n",
      "[0.2384711  2.23114043 0.93595676 0.22542507 0.93595676 0.87771361\n",
      " 0.99537668 0.97988453 0.2384711 ]\n",
      "coronal temperature of GJ 9827d\n",
      "[2.35478739]\n",
      "wind velocities for Kepler-138d, K2-3d, GJ3053b, K2-3c, GJ9827d, K2-18b, GJ97658b\n",
      "[659.96845418 389.33010677 147.21070238 357.54237964 563.17858875\n",
      " 416.9940419  280.38831418]\n",
      "wind velocities for GJ1132b, 55Cnce, GJ1214b\n",
      "[19.62486672 14.89090132 25.20406785]\n",
      "wind densities for GJ1132b, Kepler-138d, K2-3d, GJ3053b, K2-3c, 55Cnce, GJ9827d, K2-18b, GJ97658b, GJ1214b\n",
      "[2.70049796e-19 3.07582033e-22 1.73448087e-22 1.80821233e-21\n",
      " 3.82353181e-22 1.36697468e-19 1.63653577e-21 3.62395667e-22\n",
      " 1.20192601e-21 4.07029881e-19            nan            nan]\n",
      "atmospheric mass loss for Kepler-138d, K2-3d, GJ3053b, K2-3c, GJ9827d, K2-18b, GJ97658b\n",
      "[ 22727.46457091  14059.03883356  60219.92739797  32751.95182927\n",
      " 288159.28061802  64909.36673254 148441.80818803]\n",
      "atmospheric mass loss for GJ1132b, 55Cnce, GJ1214b\n",
      "[ 517491.90990948  567863.01626196 6372137.71846824]\n"
     ]
    }
   ],
   "source": [
    "# How to open a table\n",
    "\n",
    "T2_table = np.genfromtxt('/Users/kalgi/Desktop/stellar wind/Terrestrials_NEW.csv', delimiter=\",\", usecols=(1,4,7,16,19,25,26,27), skip_header=2) \n",
    "T2_table = np.transpose(T2_table)\n",
    "\n",
    "T2_table_onlynames = np.genfromtxt('/Users/kalgi/Desktop/stellar wind/Terrestrials_NEW.csv', delimiter=\",\", usecols=(2),skip_header=2, dtype=str) \n",
    "T2_table_onlynames = np.transpose(T2_table_onlynames)\n",
    "# Read the parameters of the table\n",
    "\n",
    "names = T2_table_onlynames #names of the planets\n",
    "plt_mass=T2_table[0] #in earth mass\n",
    "plt_rad=T2_table[1] #in earth radii\n",
    "plt_den=T2_table[2] #in g/cm^3\n",
    "st_mass=T2_table[3] #in solar mass\n",
    "st_rot=T2_table[4] #in days\n",
    "st_cotemp= T2_table[5] #in MK\n",
    "orb_rad= T2_table[6] #in km\n",
    "plt_rad_km= T2_table[7] #in km\n",
    "\n",
    "#CALCULATING CORONAL TEMPERATURE\n",
    "cond3 = np.where(st_rot > 18.9) \n",
    "cond4 = np.where(st_rot < 18.9) \n",
    "\n",
    "coronal_temp_rot = 1.5*(27/st_rot[cond3])**1.2\n",
    "coronal_temp_rot1 = 1.98*(27/st_rot[cond4])**0.37\n",
    "\n",
    "#CALCULATING WIND VELOCITY\n",
    "a_naught_new= 180*(st_cotemp*10**6/(2*10**6))**(1/2) #calculation of critical velocity in km/s\n",
    "r_s_new= (2*10**11)*(st_mass/1)*(st_cotemp*10**6/(2*10**6))**(-1) #calculation of critical radius in cm\n",
    "\n",
    "cond1 = np.where(orb_rad*10**5 < r_s_new) \n",
    "cond2 = np.where(orb_rad*10**5 > r_s_new) \n",
    "\n",
    "large_radii = 2*a_naught_new[cond2]*np.log(orb_rad[cond2]*10**5/r_s_new[cond2])**0.5 \n",
    "small_radii = a_naught_new[cond1]*np.exp(3/2)*np.exp((-2*r_s_new[cond1])/(orb_rad[cond1]*10**5))\n",
    "\n",
    "#CALCULATING WIND DENSITY\n",
    "M_H= 1.6726231E-24 #mass of the proton in grams\n",
    "P_sun= 27.2 #rotation period of Sun in day\n",
    "r_sun=6.96E10 #radius of the sun in cm\n",
    "\n",
    "wind_density= ((3.3E5*(orb_rad*10**5/r_sun)**-2 + 4.16E6*(orb_rad*10**5/r_sun)**-4 + 8.0E7*(orb_rad*10**5/r_sun)**-6)*(M_H/2)*(st_rot/P_sun)**0.6)\n",
    "\n",
    "#CALCULATING ATMOSPHERIC MASS LOSS\n",
    "M_a_1= 6.28*(plt_rad_km[cond2]**2)*0.3*(wind_density[cond2]*10**15)*(large_radii)\n",
    "M_a_2= 6.28*(plt_rad_km[cond1]**2)*0.3*(wind_density[cond1]*10**15)*(small_radii)\n",
    "\n",
    "print('coronal temperature of GJ1132b, Kepler-138d, K2-3d, GJ3053b, K2-3c, 55Cnce, K2-18b, GJ97658b, GJ1214b')\n",
    "print(coronal_temp_rot)\n",
    "print('coronal temperature of GJ 9827d')\n",
    "print(coronal_temp_rot1)\n",
    "print('wind velocities for Kepler-138d, K2-3d, GJ3053b, K2-3c, GJ9827d, K2-18b, GJ97658b')\n",
    "print(large_radii) #Kepler-138d, K2-3d, GJ3053b, K2-3c, GJ9827d, K2-18b, GJ97658b\n",
    "print('wind velocities for GJ1132b, 55Cnce, GJ1214b')\n",
    "print(small_radii) #GJ1132b, 55Cnce, GJ1214b\n",
    "print('wind densities for GJ1132b, Kepler-138d, K2-3d, GJ3053b, K2-3c, 55Cnce, GJ9827d, K2-18b, GJ97658b, GJ1214b')\n",
    "print(wind_density) #GJ1132b, Kepler-138d, K2-3d, GJ3053b, K2-3c, 55Cnce, GJ9827d, K2-18b, GJ97658b, GJ1214b\n",
    "print('atmospheric mass loss for Kepler-138d, K2-3d, GJ3053b, K2-3c, GJ9827d, K2-18b, GJ97658b')\n",
    "print(M_a_1)\n",
    "print('atmospheric mass loss for GJ1132b, 55Cnce, GJ1214b')\n",
    "print(M_a_2)\n",
    "\n"
   ]
  },
  {
   "cell_type": "code",
   "execution_count": null,
   "metadata": {},
   "outputs": [],
   "source": []
  }
 ],
 "metadata": {
  "kernelspec": {
   "display_name": "Python 3",
   "language": "python",
   "name": "python3"
  },
  "language_info": {
   "codemirror_mode": {
    "name": "ipython",
    "version": 3
   },
   "file_extension": ".py",
   "mimetype": "text/x-python",
   "name": "python",
   "nbconvert_exporter": "python",
   "pygments_lexer": "ipython3",
   "version": "3.6.7"
  }
 },
 "nbformat": 4,
 "nbformat_minor": 4
}
