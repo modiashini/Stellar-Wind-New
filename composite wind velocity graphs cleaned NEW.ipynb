{
 "cells": [
  {
   "cell_type": "code",
   "execution_count": 1,
   "metadata": {},
   "outputs": [],
   "source": [
    "import numpy as np\n",
    "import matplotlib.pyplot as plt"
   ]
  },
  {
   "cell_type": "code",
   "execution_count": 2,
   "metadata": {},
   "outputs": [],
   "source": [
    "#GJ-9827\n",
    "fst_cotemp_rot_GJ9827 = 2.35478739*10**6 #coronal temperature in K\n",
    "fst_mass_GJ9827 = 0.606 #mass in solar mass\n",
    "\n",
    "a_naught_new_GJ9827 = 180*(fst_cotemp_rot_GJ9827/(2*10**6))**(1/2) #calculation of critical velocity in km/s\n",
    "r_s_new_GJ9827 = (2*10**11)*(fst_mass_GJ9827/1)*(fst_cotemp_rot_GJ9827/(2*10**6))**(-1) #calculation of critical radius in cm\n",
    "\n",
    "def stellar_wind_GJ9827(r): #stellar wind velocity definition\n",
    "    r *= 10**11  #this is so the curve plots correctly, otherwise it is a straight line\n",
    "    return a_naught_new_GJ9827*np.exp(3/2)*np.exp((-2*r_s_new_GJ9827)/r) #equation for wind velocity in km/s"
   ]
  },
  {
   "cell_type": "code",
   "execution_count": 3,
   "metadata": {},
   "outputs": [],
   "source": [
    "#55-Cnc\n",
    "fst_cotemp_rot_55Cnc = 0.87771361*10**6\n",
    "fst_mass_55Cnc =  0.905\n",
    "\n",
    "a_naught_new_55Cnc = 180*(fst_cotemp_rot_55Cnc/(2*10**6))**(1/2)\n",
    "r_s_new_55Cnc = (2*10**11)*(fst_mass_55Cnc/1)*(fst_cotemp_rot_55Cnc/(2*10**6))**(-1)\n",
    "\n",
    "def stellar_wind_55Cnc(r):\n",
    "    r *= 10**11\n",
    "    return a_naught_new_55Cnc*np.exp(3/2)*np.exp((-2*r_s_new_55Cnc)/r)"
   ]
  },
  {
   "cell_type": "code",
   "execution_count": 4,
   "metadata": {},
   "outputs": [],
   "source": [
    "#GJ-97658\n",
    "fst_cotemp_rot_GJ97658 = 0.97988453*10**6\n",
    "fst_mass_GJ97658 =  0.85\n",
    "\n",
    "a_naught_new_GJ97658 = 180*(fst_cotemp_rot_GJ97658/(2*10**6))**(1/2)\n",
    "r_s_new_GJ97658 = (2*10**11)*(fst_mass_GJ97658/1)*(fst_cotemp_rot_GJ97658/(2*10**6))**(-1)\n",
    "\n",
    "def stellar_wind_GJ97658(r):\n",
    "    r *= 10**11\n",
    "    return a_naught_new_GJ97658*np.exp(3/2)*np.exp((-2*r_s_new_GJ97658)/r)"
   ]
  },
  {
   "cell_type": "code",
   "execution_count": 5,
   "metadata": {},
   "outputs": [],
   "source": [
    "#K2-18\n",
    "fst_cotemp_rot_K218 = 0.99537668*10**6\n",
    "fst_mass_K218 = 0.359\n",
    "\n",
    "a_naught_new_K218 = 180*(fst_cotemp_rot_K218/(2*10**6))**(1/2)\n",
    "r_s_new_K218 = (2*10**11)*(fst_mass_K218/1)*(fst_cotemp_rot_K218/(2*10**6))**(-1)\n",
    "\n",
    "def stellar_wind_K218(r):\n",
    "    r *= 10**11\n",
    "    return a_naught_new_K218*np.exp(3/2)*np.exp((-2*r_s_new_K218)/r)"
   ]
  },
  {
   "cell_type": "code",
   "execution_count": 6,
   "metadata": {},
   "outputs": [],
   "source": [
    "#K2-3\n",
    "fst_cotemp_rot_K23 = 0.93595676*10**6\n",
    "fst_mass_K23 = 0.601\n",
    "\n",
    "a_naught_new_K23 = 180*(fst_cotemp_rot_K23/(2*10**6))**(1/2)\n",
    "r_s_new_K23 = (2*10**11)*(fst_mass_K23/1)*(fst_cotemp_rot_K23/(2*10**6))**(-1)\n",
    "\n",
    "def stellar_wind_K23(r):\n",
    "    r *= 10**11\n",
    "    return a_naught_new_K23*np.exp(3/2)*np.exp((-2*r_s_new_K23)/r)"
   ]
  },
  {
   "cell_type": "code",
   "execution_count": 7,
   "metadata": {},
   "outputs": [],
   "source": [
    "#GJ-1132\n",
    "fst_cotemp_rot_GJ1132 = 0.2384711*10**6\n",
    "fst_mass_GJ1132 = 0.181\n",
    "\n",
    "a_naught_new_GJ1132 = 180*(fst_cotemp_rot_GJ1132/(2*10**6))**(1/2)\n",
    "r_s_new_GJ1132 = (2*10**11)*(fst_mass_GJ1132/1)*(fst_cotemp_rot_GJ1132/(2*10**6))**(-1)\n",
    "\n",
    "def stellar_wind_GJ1132(r):\n",
    "    r *= 10**11\n",
    "    return a_naught_new_GJ1132*np.exp(3/2)*np.exp((-2*r_s_new_GJ1132)/r)"
   ]
  },
  {
   "cell_type": "code",
   "execution_count": 8,
   "metadata": {},
   "outputs": [],
   "source": [
    "#GJ-1214\n",
    "fst_cotemp_rot_GJ1214 = 0.2384711*10**6\n",
    "fst_mass_GJ1214 = 0.15\n",
    "\n",
    "a_naught_new_GJ1214 = 180*(fst_cotemp_rot_GJ1214/(2*10**6))**(1/2)\n",
    "r_s_new_GJ1214 = (2*10**11)*(fst_mass_GJ1214/1)*(fst_cotemp_rot_GJ1214/(2*10**6))**(-1)\n",
    "\n",
    "def stellar_wind_GJ1214(r):\n",
    "    r *= 10**11\n",
    "    return a_naught_new_GJ1214*np.exp(3/2)*np.exp((-2*r_s_new_GJ1214)/r)"
   ]
  },
  {
   "cell_type": "code",
   "execution_count": 9,
   "metadata": {},
   "outputs": [],
   "source": [
    "#Kepler-138\n",
    "fst_cotemp_rot_Kepler138 = 2.23114043*10**6\n",
    "fst_mass_Kepler138 = 0.521\n",
    "\n",
    "a_naught_new_Kepler138 = 180*(fst_cotemp_rot_Kepler138/(2*10**6))**(1/2)\n",
    "r_s_new_Kepler138= (2*10**11)*(fst_mass_Kepler138/1)*(fst_cotemp_rot_Kepler138/(2*10**6))**(-1)\n",
    "\n",
    "def stellar_wind_Kepler138(r):\n",
    "    r *= 10**11\n",
    "    return a_naught_new_Kepler138*np.exp(3/2)*np.exp((-2*r_s_new_Kepler138)/r)"
   ]
  },
  {
   "cell_type": "code",
   "execution_count": 10,
   "metadata": {},
   "outputs": [],
   "source": [
    "#GJ-3053\n",
    "fst_cotemp_rot_GJ3053 = 0.22542507*10**6\n",
    "fst_mass_GJ3053 = 0.179\n",
    "\n",
    "a_naught_new_GJ3053 = 180*(fst_cotemp_rot_GJ3053/(2*10**6))**(1/2)\n",
    "r_s_new_GJ3053= (2*10**11)*(fst_mass_GJ3053/1)*(fst_cotemp_rot_GJ3053/(2*10**6))**(-1)\n",
    "\n",
    "def stellar_wind_GJ3053(r):\n",
    "    r *= 10**11\n",
    "    return a_naught_new_GJ3053*np.exp(3/2)*np.exp((-2*r_s_new_GJ3053)/r)"
   ]
  },
  {
   "cell_type": "code",
   "execution_count": 11,
   "metadata": {},
   "outputs": [],
   "source": [
    "x_GJ9827= (8227882.9)*10**5 #orbital radius in cm\n",
    "y_GJ9827=a_naught_new_GJ9827*np.exp(3/2)*np.exp((-2*r_s_new_GJ9827)/x_GJ9827) #wind velocity at orbital radius in km/s\n",
    "\n",
    "x_55Cnc= (23097911.2)*10**5\n",
    "y_55Cnc=a_naught_new_55Cnc*np.exp(3/2)*np.exp((-2*r_s_new_55Cnc)/x_55Cnc)\n",
    "\n",
    "x_GJ97658= (11907990.5)*10**5\n",
    "y_GJ97658=a_naught_new_GJ97658*np.exp(3/2)*np.exp((-2*r_s_new_GJ97658)/x_GJ97658)\n",
    "\n",
    "x_K218= (21377535.7)*10**5\n",
    "y_K218=a_naught_new_K218*np.exp(3/2)*np.exp((-2*r_s_new_K218)/x_K218)\n",
    "\n",
    "x_K23c= (20120913.6)*10**5\n",
    "y_K23c=a_naught_new_K23*np.exp(3/2)*np.exp((-2*r_s_new_K23)/x_K23c)\n",
    "\n",
    "x_K23d= (31370673.5)*10**5\n",
    "y_K23d=a_naught_new_K23*np.exp(3/2)*np.exp((-2*r_s_new_K23)/x_K23d)\n",
    "\n",
    "x_GJ1132= (2288847.42)*10**5\n",
    "y_GJ1132=a_naught_new_GJ1132*np.exp(3/2)*np.exp((-2*r_s_new_GJ1132)/x_GJ1132)\n",
    "\n",
    "x_GJ1214= (2110825.956)*10**5\n",
    "y_GJ1214=a_naught_new_GJ1214*np.exp(3/2)*np.exp((-2*r_s_new_GJ1214)/x_GJ1214)\n",
    "\n",
    "x_Kepler138= (11369438)*10**5\n",
    "y_Kepler138=a_naught_new_Kepler138*np.exp(3/2)*np.exp((-2*r_s_new_Kepler138)/x_Kepler138)\n",
    "\n",
    "x_GJ3053= (14002360.7)*10**5\n",
    "y_GJ3053=a_naught_new_GJ3053*np.exp(3/2)*np.exp((-2*r_s_new_GJ3053)/x_GJ3053)\n",
    "\n",
    "\n",
    "\n"
   ]
  },
  {
   "cell_type": "code",
   "execution_count": 12,
   "metadata": {},
   "outputs": [
    {
     "data": {
      "text/plain": [
       "Text(0, 0.5, 'u(r) kms$^-1$')"
      ]
     },
     "execution_count": 12,
     "metadata": {},
     "output_type": "execute_result"
    },
    {
     "data": {
      "image/png": "[encoded data removed]",
      "text/plain": [
       "<Figure size 432x288 with 1 Axes>"
      ]
     },
     "metadata": {},
     "output_type": "display_data"
    }
   ],
   "source": [
    "#Plotting functions\n",
    "x = np.linspace(1,80)\n",
    "y = stellar_wind_GJ9827(x)\n",
    "\n",
    "x2 = np.linspace(1,80)\n",
    "y2 = stellar_wind_55Cnc(x2)\n",
    "\n",
    "x3 = np.linspace(1,80)\n",
    "y3 = stellar_wind_GJ97658(x3)\n",
    "\n",
    "x4 = np.linspace(1,80)\n",
    "y4 = stellar_wind_K218(x4)\n",
    "\n",
    "x5 = np.linspace(1,80)\n",
    "y5 = stellar_wind_K23(x5)\n",
    "\n",
    "x6 = np.linspace(1,80)\n",
    "y6 = stellar_wind_GJ1132(x6)\n",
    "\n",
    "x7 = np.linspace(1,80)\n",
    "y7 = stellar_wind_GJ1214(x7)\n",
    "\n",
    "x8 = np.linspace(1,80)\n",
    "y8 = stellar_wind_Kepler138(x8)\n",
    "\n",
    "x9 = np.linspace(1,80)\n",
    "y9 = stellar_wind_GJ3053(x9)\n",
    "\n",
    "axes= plt.axes()\n",
    "\n",
    "plt.plot(x,y, label=\"GJ 9827\")\n",
    "plt.plot(x2,y2,label= \"55 Cnc\")\n",
    "plt.plot(x3,y3, label= \"GJ 97658\")\n",
    "plt.plot(x4,y4, label='K2-18')\n",
    "plt.plot(x5,y5,label=\"K2-3\")\n",
    "plt.plot(x6,y6,label='GJ 1132')\n",
    "plt.plot(x7,y7,label='GJ 1214')\n",
    "plt.plot(x8,y8,label='Kepler-138')\n",
    "plt.plot(x9,y9,label='GJ-3053')\n",
    "plt.plot(x_GJ9827, y_GJ9827,color= 'CornFlowerBlue', marker='o')\n",
    "plt.plot(x_55Cnc, y_55Cnc, color= 'orange', marker='o')\n",
    "plt.plot(x_GJ97658, y_GJ97658, 'go')\n",
    "plt.plot(x_K218, y_K218, 'ro')\n",
    "plt.plot(x_K23c, y_K23c, 'mo')\n",
    "plt.plot(x_K23d, y_K23d, 'mo')\n",
    "plt.plot(x_GJ1132, y_GJ1132, color= 'brown',marker='o')\n",
    "plt.plot(x_GJ1214, y_GJ1214, color= 'pink', marker='o')\n",
    "plt.plot(x_Kepler138, y_Kepler138, color='gray',marker='o')\n",
    "plt.plot(x_GJ3053, y_GJ3053, 'yo')\n",
    "\n",
    "plt.legend(loc= 'lower right', bbox_to_anchor=(1.29, +0.12))\n",
    "plt.title('Wind Velocity v. Radius of 9 Host Stars')\n",
    "plt.xlabel('r (10$^7$) km')\n",
    "plt.ylabel('u(r) kms$^-1$')\n"
   ]
  },
  {
   "cell_type": "code",
   "execution_count": 39,
   "metadata": {},
   "outputs": [
    {
     "data": {
      "text/plain": [
       "[<matplotlib.lines.Line2D at 0x1178d7400>]"
      ]
     },
     "execution_count": 39,
     "metadata": {},
     "output_type": "execute_result"
    },
    {
     "data": {
      "image/png": "[encoded data removed]",
      "text/plain": [
       "<Figure size 432x288 with 1 Axes>"
      ]
     },
     "metadata": {},
     "output_type": "display_data"
    }
   ],
   "source": [
    "a_naught_new_sun = 180*(2*10**6/(2*10**6))**(1/2)\n",
    "r_s_new_sun = (2*10**11)*(1/1)*(2*10**6/(2*10**6))**(-1)\n",
    "\n",
    "x_sun= (1.5)*10**13\n",
    "y_sun=a_naught_new_sun*np.exp(3/2)*np.exp((-2*r_s_new_sun)/x_sun)\n",
    "\n",
    "def solar_wind(r):\n",
    "    r *= 10**11\n",
    "    return a_naught_new_sun*np.exp(3/2)*np.exp((-2*r_s_new_sun)/r)\n",
    "\n",
    "x100 = np.linspace(1,160)\n",
    "y100 = solar_wind(x100)\n",
    "\n",
    "plt.xlabel('r (10$^8$) km')\n",
    "plt.ylabel('u(r) kms$^-1$')\n",
    "\n",
    "plt.plot(x100,y100)\n",
    "plt.plot(x_sun, y_sun, 'bo')\n"
   ]
  },
  {
   "cell_type": "code",
   "execution_count": 31,
   "metadata": {},
   "outputs": [
    {
     "name": "stdout",
     "output_type": "stream",
     "text": [
      "102939229685.61507\n",
      "412435213349.3748\n",
      "346979658919.6076\n",
      "144266992471.63394\n",
      "256849472405.11407\n",
      "303600729815.898\n",
      "251602814764.55637\n",
      "93405147070.9085\n",
      "317622170417.8688\n"
     ]
    }
   ],
   "source": [
    "#print(a_naught_new_GJ9827)\n",
    "print(r_s_new_GJ9827)\n",
    "#print(a_naught_new_55Cnc)\n",
    "print(r_s_new_55Cnc)\n",
    "#print(a_naught_new_GJ97658)\n",
    "print(r_s_new_GJ97658)\n",
    "#print(a_naught_new_K218)\n",
    "print(r_s_new_K218)\n",
    "#print(a_naught_new_K23)\n",
    "print(r_s_new_K23)\n",
    "#print(a_naught_new_GJ1132)\n",
    "print(r_s_new_GJ1132)\n",
    "#print(a_naught_new_GJ1214)\n",
    "print(r_s_new_GJ1214)\n",
    "#print(a_naught_new_Kepler138)\n",
    "print(r_s_new_Kepler138)\n",
    "#print(a_naught_new_GJ3053)\n",
    "print(r_s_new_GJ3053)"
   ]
  },
  {
   "cell_type": "code",
   "execution_count": 13,
   "metadata": {
    "scrolled": true
   },
   "outputs": [
    {
     "name": "stdout",
     "output_type": "stream",
     "text": [
      "681.5625490063876\n",
      "373.9218214664785\n",
      "315.2781329585725\n",
      "497.25132985664175\n",
      "427.5128243261888\n",
      "468.50132622440805\n",
      "19.624125679051488\n",
      "25.679732617250874\n",
      "722.9430991294088\n",
      "172.0577320118617\n"
     ]
    }
   ],
   "source": [
    "print(y_GJ9827)\n",
    "\n",
    "print(y_55Cnc)\n",
    "\n",
    "print(y_GJ97658)\n",
    "\n",
    "print(y_K218)\n",
    "\n",
    "print(y_K23c)\n",
    "\n",
    "print(y_K23d)\n",
    "\n",
    "print(y_GJ1132)\n",
    "\n",
    "print(y_GJ1214)\n",
    "\n",
    "print(y_Kepler138)\n",
    "\n",
    "print(y_GJ3053)"
   ]
  },
  {
   "cell_type": "code",
   "execution_count": null,
   "metadata": {},
   "outputs": [],
   "source": []
  }
 ],
 "metadata": {
  "kernelspec": {
   "display_name": "Python 3",
   "language": "python",
   "name": "python3"
  },
  "language_info": {
   "codemirror_mode": {
    "name": "ipython",
    "version": 3
   },
   "file_extension": ".py",
   "mimetype": "text/x-python",
   "name": "python",
   "nbconvert_exporter": "python",
   "pygments_lexer": "ipython3",
   "version": "3.6.7"
  }
 },
 "nbformat": 4,
 "nbformat_minor": 2
}
